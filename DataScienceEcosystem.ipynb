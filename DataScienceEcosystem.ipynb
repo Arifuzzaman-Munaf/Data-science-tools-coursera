{
 "cells": [
  {
   "cell_type": "markdown",
   "id": "01fdbc66-7f1c-4e2b-9ca3-0426e95cd052",
   "metadata": {},
   "source": [
    "# Exercise 2: Create markdown cell with title of the notebook"
   ]
  },
  {
   "cell_type": "markdown",
   "id": "b513e5ce-9b31-43bf-b578-e6a1a857b371",
   "metadata": {},
   "source": [
    "<h1>Data Science Tools and Ecosystem</h1>"
   ]
  },
  {
   "cell_type": "code",
   "execution_count": null,
   "id": "0770ff1c-b052-4982-b487-fbdd28f9c569",
   "metadata": {},
   "outputs": [],
   "source": []
  },
  {
   "cell_type": "markdown",
   "id": "fcce7dd8-03e1-46a0-8ea4-19fb5bbc1580",
   "metadata": {},
   "source": [
    "# Exercise 3 - Create a markdown cell for an introduction"
   ]
  },
  {
   "cell_type": "markdown",
   "id": "652a7213-7405-4fb6-a038-19b991d1d8b4",
   "metadata": {},
   "source": [
    "In this notebook, Data Science Tools and Ecosystem are summarized."
   ]
  },
  {
   "cell_type": "markdown",
   "id": "afb6f0b8-d21e-46b6-b19e-71c967316373",
   "metadata": {},
   "source": [
    "# Exercise 4 - Create a markdown cell to list data science languages"
   ]
  },
  {
   "cell_type": "markdown",
   "id": "743584ca-feba-4359-a26a-d5b0ba1b3adf",
   "metadata": {},
   "source": [
    "Some of the popular languages that Data Scientists use are:\n",
    "<ol> \n",
    "    <li>Python</li>\n",
    "    <li>JS</li>\n",
    "    <li>R</li>\n",
    "    <li>JAVA</li>\n",
    "</ol>"
   ]
  },
  {
   "cell_type": "markdown",
   "id": "a0a993dd-741f-4cfc-91a8-8c54ef51d6ad",
   "metadata": {},
   "source": [
    "# Exercise 5 - Create a markdown cell to list data science libraries"
   ]
  },
  {
   "cell_type": "markdown",
   "id": "f53d50a1-e101-4a98-a6bd-a8495a2011cd",
   "metadata": {},
   "source": [
    "Some of the commonly used libraries used by Data Scientists include:\n",
    "<ol> \n",
    "    <li>Scikit-learn</li>\n",
    "    <li>Pandas</li>\n",
    "    <li>Numpy</li>\n",
    "    <li>Seaborn</li>\n",
    "</ol>"
   ]
  },
  {
   "cell_type": "markdown",
   "id": "45ba787d-d33e-41df-b6db-331a9cd71925",
   "metadata": {},
   "source": [
    "# Exercise 6 - Create a markdown cell with a table of Data Science tools"
   ]
  },
  {
   "cell_type": "markdown",
   "id": "71a20764-dff5-480c-8bb4-e5995e05a3f6",
   "metadata": {},
   "source": [
    "<table>\n",
    "    <tr><th>Data Science Tools</th></tr>\n",
    "    <tr><td>IBM Watson Studio</td></tr>\n",
    "    <tr><td>Apache Spark</td></tr>\n",
    "    <tr><td>Orange3</td></tr>\n",
    "</table>"
   ]
  },
  {
   "cell_type": "markdown",
   "id": "3540d41f-3aa4-412e-b17f-89dd4e7e9d1a",
   "metadata": {},
   "source": [
    "# Exercise 7 - Create a markdown cell introducing arithmetic expression examples"
   ]
  },
  {
   "cell_type": "markdown",
   "id": "544d5150-3f9d-41d2-9b08-f2f23caff753",
   "metadata": {},
   "source": [
    "<h3>Below are a few examples of evaluating arithmetic expressions in Python</h3>"
   ]
  },
  {
   "cell_type": "code",
   "execution_count": 18,
   "id": "6d597e50-3b6d-430b-9056-f08b33c3c7c6",
   "metadata": {},
   "outputs": [
    {
     "name": "stdout",
     "output_type": "stream",
     "text": [
      "45.0\n"
     ]
    }
   ],
   "source": [
    "base = 10\n",
    "height = 9\n",
    "area = 0.5 * 10 * 9\n",
    "print(area)"
   ]
  },
  {
   "cell_type": "markdown",
   "id": "1e4bb581-2671-4bb5-b5e2-e3c0fab16291",
   "metadata": {},
   "source": [
    "# Exercise 8 - Create a code cell to multiply and add numbers"
   ]
  },
  {
   "cell_type": "code",
   "execution_count": 19,
   "id": "dd729f44-be25-433c-b139-3841bd700565",
   "metadata": {},
   "outputs": [
    {
     "data": {
      "text/plain": [
       "17"
      ]
     },
     "execution_count": 19,
     "metadata": {},
     "output_type": "execute_result"
    }
   ],
   "source": [
    "#This a simple arithmetic expression to mutiply then add integers\n",
    "(3*4)+5"
   ]
  },
  {
   "cell_type": "markdown",
   "id": "e933c98a-30ea-43a2-b3d9-15b4b2c271fe",
   "metadata": {},
   "source": [
    "# Exercise 9 - Create a code cell to convert minutes to hours"
   ]
  },
  {
   "cell_type": "code",
   "execution_count": 20,
   "id": "90385634-6556-4097-88e5-00efe390cbf5",
   "metadata": {},
   "outputs": [
    {
     "data": {
      "text/plain": [
       "3.3333333333333335"
      ]
     },
     "execution_count": 20,
     "metadata": {},
     "output_type": "execute_result"
    }
   ],
   "source": [
    "# This will convert 200 minutes to hours by diving by 60\n",
    "200/60"
   ]
  },
  {
   "cell_type": "markdown",
   "id": "9df8aba5-1b78-4188-8d5c-43d29d9521f8",
   "metadata": {},
   "source": [
    "# Exercise 10 - Insert a markdown cell to list Objectives"
   ]
  },
  {
   "cell_type": "markdown",
   "id": "e718f287-c9fd-4313-bf63-60522fa9889d",
   "metadata": {},
   "source": [
    "<b>Objectives:</b>\n",
    "<ul> \n",
    "    <li>List popular languages for Data Science</li>\n",
    "    <li>List popular libraries for Data Science</li>\n",
    "    <li>Create table</li>\n",
    "    <li>arithmetic expressions in Python</li>\n",
    "</ul>"
   ]
  },
  {
   "cell_type": "markdown",
   "id": "674484b1-ff0c-490b-9bf0-bf635545cc37",
   "metadata": {},
   "source": [
    "# Exercise 11 - Create a markdown cell to indicate the Author's name"
   ]
  },
  {
   "cell_type": "markdown",
   "id": "5415dbb3-9991-46cf-a7cd-ff0123d8a18d",
   "metadata": {},
   "source": [
    "<h2>Author</h2>\n",
    "Md Arifuzzaman Munaf"
   ]
  }
 ],
 "metadata": {
  "kernelspec": {
   "display_name": "Python 3 (ipykernel)",
   "language": "python",
   "name": "python3"
  },
  "language_info": {
   "codemirror_mode": {
    "name": "ipython",
    "version": 3
   },
   "file_extension": ".py",
   "mimetype": "text/x-python",
   "name": "python",
   "nbconvert_exporter": "python",
   "pygments_lexer": "ipython3",
   "version": "3.12.2"
  }
 },
 "nbformat": 4,
 "nbformat_minor": 5
}
